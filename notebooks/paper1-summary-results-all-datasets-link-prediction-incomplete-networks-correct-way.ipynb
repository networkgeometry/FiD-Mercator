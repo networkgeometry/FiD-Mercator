{
 "cells": [
  {
   "cell_type": "code",
   "execution_count": 2,
   "id": "400abedf",
   "metadata": {},
   "outputs": [
    {
     "name": "stdout",
     "output_type": "stream",
     "text": [
      "time: 1.3 s (started: 2023-12-15 15:29:08 +01:00)\n"
     ]
    }
   ],
   "source": [
    "%load_ext autoreload\n",
    "%load_ext notexbook\n",
    "%autoreload 2\n",
    "%load_ext autotime\n",
    "\n",
    "import matplotlib.pyplot as plt\n",
    "from matplotlib import cm\n",
    "import numpy as np\n",
    "import pandas as pd\n",
    "import glob\n",
    "import seaborn as sns\n",
    "import sys\n",
    "sys.path.append(\"..\")\n",
    "from tqdm import tqdm\n",
    "import networkx as nx\n",
    "\n",
    "plt.style.use(\"../config/custom_plt.mplstyle\")\n",
    "\n",
    "from generate_incomplete_graph import *\n",
    "from compute_precision_vs_missing_links import *"
   ]
  },
  {
   "cell_type": "code",
   "execution_count": 3,
   "id": "a5e111dd",
   "metadata": {},
   "outputs": [
    {
     "name": "stdout",
     "output_type": "stream",
     "text": [
      "time: 162 ms (started: 2023-12-15 15:29:09 +01:00)\n"
     ]
    }
   ],
   "source": [
    "from sklearn.preprocessing import LabelEncoder\n",
    "\n",
    "def load_results(inf_coords_path):\n",
    "    inf_coords = pd.read_csv(inf_coords_path, comment=\"#\", header=None, sep=\"\\s+\")\n",
    "    inf_coords.columns = ['index', 'kappa', 'hyp_rad', 'p1', 'p2', 'p3']\n",
    "    return inf_coords"
   ]
  },
  {
   "cell_type": "code",
   "execution_count": 6,
   "id": "1bed99a8",
   "metadata": {},
   "outputs": [
    {
     "name": "stdout",
     "output_type": "stream",
     "text": [
      "time: 3.15 ms (started: 2023-12-15 15:36:41 +01:00)\n"
     ]
    }
   ],
   "source": [
    "from numba import jit\n",
    "\n",
    "\n",
    "def read_beta_and_mu_and_R(path):\n",
    "    with open(path, 'r') as f:\n",
    "        for line in f:\n",
    "            if '- beta' in line:\n",
    "                beta = float(line.split()[-1])\n",
    "            elif '- mu' in line:\n",
    "                mu = float(line.split()[-1])\n",
    "            elif '- radius_S' in line:\n",
    "                R = float(line.split()[-1])\n",
    "        return beta, mu, R\n",
    "    \n",
    "\n",
    "@jit(nopython=True)\n",
    "def fast_score_matrix(pos, kappas, beta, mu, R):\n",
    "    score = np.zeros((len(kappas), len(kappas)))\n",
    "    for i in range(len(pos)):\n",
    "        for j in range(i):\n",
    "            p1, p2 = pos[i], pos[j]\n",
    "            angle = np.arccos(np.dot(p1, p2) / (np.linalg.norm(p2) * np.linalg.norm(p1)))\n",
    "            if np.isnan(angle):\n",
    "                angle = 0\n",
    "            score[i, j] = 1 / (1 + np.power((R * angle) / np.sqrt(mu * kappas[i] * kappas[j]), beta))\n",
    "            score[j, i] = score[i, j]\n",
    "    return score\n",
    "\n",
    "\n",
    "def compute_score_matrix(g, df, beta, mu, R):\n",
    "    nodes_order = list(g.nodes())\n",
    "    df['index'] = df['index'].astype(str)\n",
    "    df = df.set_index('index')\n",
    "    df = df.loc[nodes_order]\n",
    "    \n",
    "    pos = df[['p1', 'p2', 'p3']].values\n",
    "    kappas = df['kappa'].values\n",
    "    return fast_score_matrix(pos, kappas, beta, mu, R)\n",
    "\n",
    "\n",
    "# INFO: Original implementation\n",
    "# def compute_precision_curve_incomplete_graph(qs, df_incomplete, complete_graph, incomplete_graph, beta, mu, R, ntimes=5):\n",
    "#     score = compute_score_matrix(incomplete_graph, df_incomplete, beta, mu, R)\n",
    "\n",
    "#     precisions = []\n",
    "#     for q in tqdm(qs):\n",
    "#         p_mean = []\n",
    "#         for _ in range(ntimes):\n",
    "#             train_graph = generate_incomplete_network(incomplete_graph, q0=q, check_gcc=False)\n",
    "#             ET = nx.to_numpy_matrix(train_graph)\n",
    "#             EP = nx.to_numpy_matrix(complete_graph) - ET\n",
    "\n",
    "#             q0 = 0.1 # fraction of links removed from the original graph\n",
    "#             L = int(q * nx.number_of_edges(incomplete_graph) / (1 - q0))\n",
    "#             p = compute_precision(ET, EP, L, score)\n",
    "#             p_mean.append(p)\n",
    "#         precisions.append(np.mean(p_mean))\n",
    "#     return precisions\n",
    "\n",
    "\n",
    "def compute_precision_curve_incomplete_graph(qs, df_incomplete, complete_graph, incomplete_graph, beta, mu, R, ntimes=5):\n",
    "    score = compute_score_matrix(incomplete_graph, df_incomplete, beta, mu, R)\n",
    "\n",
    "    precisions = []\n",
    "    for q in tqdm(qs):\n",
    "        p_mean = []\n",
    "        for _ in range(ntimes):\n",
    "            ET = nx.to_numpy_array(incomplete_graph)\n",
    "            EP = nx.to_numpy_array(complete_graph) - ET\n",
    "\n",
    "            q0 = 0.1 # fraction of links removed from the original graph\n",
    "            L = int(q * nx.number_of_edges(incomplete_graph) / (1 - q0))\n",
    "            p = compute_precision(ET, EP, L, score)\n",
    "            p_mean.append(p)\n",
    "        precisions.append(np.mean(p_mean))\n",
    "    return precisions\n",
    "\n",
    "\n",
    "def get_precision_curve_all(qs, path, complete_graph, ntimes=5):\n",
    "    all_pr_le_ml, all_pr_umap_ml, all_pr_only_umap = [], [], []\n",
    "    for p in glob.glob(f\"{path}/umap*/\"):\n",
    "        incomplete_graph = nx.read_edgelist(glob.glob(f\"{p}/le_ml/*.edge\")[0])\n",
    "        path_le_ml = glob.glob(f\"{p}/le_ml/*.inf_coord\")[0]\n",
    "        beta_le_ml, mu_le_ml, R_le_ml = read_beta_and_mu_and_R(path_le_ml)\n",
    "        df_le_ml_incomplete = load_results(path_le_ml)\n",
    "        \n",
    "        path_umap_ml = glob.glob(f\"{p}/umap_ml/*.inf_coord\")[0]\n",
    "        beta_umap_ml, mu_umap_ml, R_umap_ml = read_beta_and_mu_and_R(path_umap_ml)\n",
    "        df_umap_ml_incomplete = load_results(path_umap_ml)\n",
    "        \n",
    "        path_only_umap = glob.glob(f\"{p}/only_umap/*.inf_coord\")[0]\n",
    "        beta_only_umap, mu_only_umap, R_only_umap = read_beta_and_mu_and_R(path_only_umap)\n",
    "        df_only_umap_incomplete = load_results(path_only_umap)\n",
    "        \n",
    "        pr_le_ml  = compute_precision_curve_incomplete_graph(\n",
    "            qs, df_le_ml_incomplete, complete_graph, incomplete_graph, beta_le_ml, mu_le_ml, R_le_ml, ntimes)\n",
    "        pr_umap_ml  = compute_precision_curve_incomplete_graph(\n",
    "            qs, df_umap_ml_incomplete, complete_graph, incomplete_graph, beta_umap_ml, mu_umap_ml, R_umap_ml, ntimes)\n",
    "        pr_only_umap  = compute_precision_curve_incomplete_graph(\n",
    "            qs, df_only_umap_incomplete, complete_graph, incomplete_graph, beta_only_umap, mu_only_umap, R_only_umap, ntimes)\n",
    "        \n",
    "        all_pr_le_ml.append(pr_le_ml)\n",
    "        all_pr_umap_ml.append(pr_umap_ml)\n",
    "        all_pr_only_umap.append(pr_only_umap)\n",
    "    return np.array(all_pr_le_ml), np.array(all_pr_umap_ml), np.array(all_pr_only_umap)    \n",
    "\n",
    "qs = np.linspace(0.01, 0.8, num=20)    "
   ]
  },
  {
   "cell_type": "code",
   "execution_count": null,
   "id": "0666b43b",
   "metadata": {},
   "outputs": [
    {
     "name": "stderr",
     "output_type": "stream",
     "text": [
      "100%|██████████| 20/20 [41:38:03<00:00, 7494.16s/it]    \n",
      "100%|██████████| 20/20 [3:45:53<00:00, 677.66s/it]  \n",
      "100%|██████████| 20/20 [3:43:41<00:00, 671.08s/it]  \n",
      "100%|██████████| 20/20 [3:39:18<00:00, 657.93s/it]  \n",
      "100%|██████████| 20/20 [15:29:57<00:00, 2789.89s/it]    \n",
      "100%|██████████| 20/20 [5:02:45<00:00, 908.28s/it]   \n",
      " 85%|████████▌ | 17/20 [18:16:46<1:03:16, 1265.38s/it] "
     ]
    }
   ],
   "source": [
    "amazon_photo_complete_graph = nx.read_edgelist(\"/home/rob/MEGAsync/datasets/networks/machine_learning_datasets/f_mercator/amazon_photo/umap/le_ml/amazon_photo_GC.edge\")\n",
    "path = \"/home/rob/MEGAsync/datasets/networks/machine_learning_datasets/f_mercator/amazon_photo/incomplete/\"\n",
    "amazon_photo_le_ml_pr, amazon_photo_umap_ml_pr, amazon_photo_only_umap_pr = get_precision_curve_all(qs, path, amazon_photo_complete_graph, ntimes=1)\n"
   ]
  },
  {
   "cell_type": "code",
   "execution_count": null,
   "id": "942cefc1",
   "metadata": {},
   "outputs": [],
   "source": [
    "def plot_precision_curve_with_error(qs, df_le_ml, df_umap_ml, df_only_umap, title):\n",
    "    plt.plot(qs, np.mean(df_le_ml, axis=0), 'o--', label='LE+ML', color='xkcd:red')\n",
    "    plt.fill_between(qs, np.mean(df_le_ml, axis=0) - np.std(df_le_ml, axis=0), \n",
    "                         np.mean(df_le_ml, axis=0) + np.std(df_le_ml, axis=0), color='xkcd:red', alpha=0.1)\n",
    "    \n",
    "    plt.plot(qs, np.mean(df_umap_ml, axis=0), 'v--', label='UMAP+ML', color='xkcd:blue')\n",
    "    plt.fill_between(qs, np.mean(df_umap_ml, axis=0) - np.std(df_umap_ml, axis=0), \n",
    "                         np.mean(df_umap_ml, axis=0) + np.std(df_umap_ml, axis=0), color='xkcd:blue', alpha=0.1)\n",
    "    \n",
    "    plt.plot(qs, np.mean(df_only_umap, axis=0), 'v--', label='UMAP', color='xkcd:green')\n",
    "    plt.fill_between(qs, np.mean(df_only_umap, axis=0) - np.std(df_only_umap, axis=0), \n",
    "                         np.mean(df_only_umap, axis=0) + np.std(df_only_umap, axis=0), color='xkcd:green', alpha=0.1)\n",
    "    plt.title(title)\n",
    "    \n",
    "\n",
    "    \n",
    "plot_precision_curve_with_error(qs, amazon_photo_le_ml_pr, amazon_photo_umap_ml_pr, amazon_photo_only_umap_pr, 'amazon_photo')\n",
    "\n",
    "plt.xlabel('Fraction of missing links')\n",
    "plt.ylabel('Precision')\n",
    "plt.tight_layout()\n"
   ]
  },
  {
   "cell_type": "code",
   "execution_count": null,
   "id": "9129b4ac",
   "metadata": {},
   "outputs": [],
   "source": []
  },
  {
   "cell_type": "code",
   "execution_count": null,
   "id": "773d83df",
   "metadata": {},
   "outputs": [],
   "source": []
  }
 ],
 "metadata": {
  "kernelspec": {
   "display_name": "Python 3 (ipykernel)",
   "language": "python",
   "name": "python3"
  },
  "language_info": {
   "codemirror_mode": {
    "name": "ipython",
    "version": 3
   },
   "file_extension": ".py",
   "mimetype": "text/x-python",
   "name": "python",
   "nbconvert_exporter": "python",
   "pygments_lexer": "ipython3",
   "version": "3.10.9"
  }
 },
 "nbformat": 4,
 "nbformat_minor": 5
}
