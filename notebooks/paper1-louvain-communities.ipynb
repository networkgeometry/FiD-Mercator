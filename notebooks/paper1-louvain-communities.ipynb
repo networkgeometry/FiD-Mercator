{
 "cells": [
  {
   "cell_type": "code",
   "execution_count": 1,
   "id": "400abedf",
   "metadata": {},
   "outputs": [
    {
     "name": "stdout",
     "output_type": "stream",
     "text": [
      "time: 2.17 s (started: 2023-03-16 15:14:42 +01:00)\n"
     ]
    }
   ],
   "source": [
    "%load_ext autoreload\n",
    "%load_ext notexbook\n",
    "%autoreload 2\n",
    "%load_ext autotime\n",
    "\n",
    "import matplotlib.pyplot as plt\n",
    "from matplotlib import cm\n",
    "import numpy as np\n",
    "import pandas as pd\n",
    "import glob\n",
    "import seaborn as sns\n",
    "import sys\n",
    "sys.path.append(\"..\")\n",
    "from tqdm import tqdm\n",
    "import networkx as nx\n",
    "\n",
    "plt.style.use(\"../config/custom_plt.mplstyle\")\n",
    "\n",
    "colors = [\n",
    "    \"#7494d3\",\n",
    "    \"#5cb545\",\n",
    "    \"#9956c6\",\n",
    "    \"#a7b338\",\n",
    "    \"#6a6bc6\",\n",
    "    \"#d09e40\",\n",
    "    \"#ce62bb\",\n",
    "    \"#56be85\",\n",
    "    \"#d1477d\",\n",
    "    \"#397f4d\",\n",
    "    \"#cf4b4a\",\n",
    "    \"#40bbc1\",\n",
    "    \"#d8662c\",\n",
    "    \"#99af66\",\n",
    "    \"#b76989\",\n",
    "    \"#6d7127\",\n",
    "    \"#b6744a\"\n",
    "]"
   ]
  },
  {
   "cell_type": "code",
   "execution_count": 2,
   "id": "b186ed0f",
   "metadata": {},
   "outputs": [
    {
     "name": "stdout",
     "output_type": "stream",
     "text": [
      "time: 531 µs (started: 2023-03-16 15:14:45 +01:00)\n"
     ]
    }
   ],
   "source": [
    "# %texify --code-font-family Monaco --linespread 1.2 --code-font-size 13"
   ]
  },
  {
   "cell_type": "markdown",
   "id": "6982f099",
   "metadata": {},
   "source": [
    "- 1  --  citeseer\n",
    "- 2  --  cora\n",
    "- 3  --  film\n",
    "- 4  --  dblp\n",
    "- 5  --  imdb\n",
    "- ?  --  acm [x]\n",
    "- 6  --  amazon_photo\n",
    "- 7  --  cornell\n",
    "- 8  --  wisconsin\n",
    "- 9  --  texas\n",
    "- 10  --  lastfm\n",
    "- ?  --  twitch_ru [x]\n",
    "- 11  --  twitch_ptbr\n",
    "- 12  --  twitch_fr\n",
    "- 13  --  twitch_es\n",
    "- 14  --  twitch_engb\n",
    "- ?  --  twitch_de [x]"
   ]
  },
  {
   "cell_type": "code",
   "execution_count": 54,
   "id": "a5e111dd",
   "metadata": {},
   "outputs": [
    {
     "name": "stdout",
     "output_type": "stream",
     "text": [
      "time: 1.67 ms (started: 2023-03-16 15:35:20 +01:00)\n"
     ]
    }
   ],
   "source": [
    "from sklearn.preprocessing import LabelEncoder\n",
    "import networkx.algorithms.community as nx_comm\n",
    "\n",
    "def load_results(inf_coords_path, labels, g):\n",
    "    inf_coords = pd.read_csv(inf_coords_path, comment=\"#\", header=None, sep=\"\\s+\")\n",
    "    inf_coords.columns = ['index', 'kappa', 'hyp_rad', 'p1', 'p2', 'p3']\n",
    "    inf_coords['index'] = inf_coords['index'].astype(str)\n",
    "    inf_coords = inf_coords.merge(labels, on=\"index\")\n",
    "    le = LabelEncoder()\n",
    "    inf_coords['encoded_label'] = le.fit_transform(inf_coords['label'])\n",
    "    inf_coords = inf_coords.drop_duplicates(subset=['index'])\n",
    "        \n",
    "    # Louvain communities\n",
    "    communities = nx_comm.louvain_communities(g, seed=123)\n",
    "    communities_dict = []\n",
    "    for i, com in enumerate(communities):\n",
    "        communities_dict.append({c:i for c in com})\n",
    "\n",
    "    result = {}\n",
    "    for d in communities_dict:\n",
    "        result.update(d)\n",
    "\n",
    "    communities_louvain = pd.DataFrame()\n",
    "    communities_louvain['index'] = result.keys()\n",
    "    communities_louvain['label_louvain'] = result.values()\n",
    "\n",
    "    inf_coords = inf_coords.merge(communities_louvain, on='index')        \n",
    "    print('Number of communities from Louvain: ', len(np.unique(inf_coords['label_louvain'])))\n",
    "    return inf_coords"
   ]
  },
  {
   "cell_type": "code",
   "execution_count": 55,
   "id": "038d5187",
   "metadata": {},
   "outputs": [
    {
     "name": "stdout",
     "output_type": "stream",
     "text": [
      "Number of communities from Louvain:  37\n",
      "Number of communities from Louvain:  37\n",
      "Number of communities from Louvain:  37\n",
      "time: 19.8 s (started: 2023-03-16 15:35:21 +01:00)\n"
     ]
    }
   ],
   "source": [
    "citeseer_graph = nx.read_edgelist(\"/home/rob/MEGAsync/datasets/networks/machine_learning_datasets/f_mercator/citeseer/citeseer_GC_fixed.edge\")\n",
    "citeseer_features = pd.read_csv(\"/home/rob/MEGAsync/datasets/networks/machine_learning_datasets/f_mercator/citeseer/citeseer.content\", header=None, sep=\"\\s+\", low_memory=False)\n",
    "citeseer_labels = pd.DataFrame()\n",
    "citeseer_labels['index'] = citeseer_features.iloc[:, 0].astype(str)\n",
    "citeseer_labels['label'] = citeseer_features.iloc[:, -1]\n",
    "\n",
    "base_path = \"/home/rob/MEGAsync/datasets/networks/machine_learning_datasets/f_mercator/citeseer/umap\"\n",
    "citeseer_le_ml = load_results(f\"{base_path}/le_ml/citeseer_GC_fixed.inf_coord\", citeseer_labels, citeseer_graph)\n",
    "citeseer_umap_ml = load_results(f\"{base_path}/umap_ml/citeseer_GC_fixed.inf_coord\", citeseer_labels, citeseer_graph)\n",
    "citeseer_only_umap = load_results(f\"{base_path}/only_umap/citeseer_GC_fixed.inf_coord\", citeseer_labels, citeseer_graph)"
   ]
  },
  {
   "cell_type": "code",
   "execution_count": 56,
   "id": "63c3d90f",
   "metadata": {},
   "outputs": [
    {
     "name": "stdout",
     "output_type": "stream",
     "text": [
      "Number of communities from Louvain:  27\n",
      "Number of communities from Louvain:  27\n",
      "Number of communities from Louvain:  27\n",
      "time: 916 ms (started: 2023-03-16 15:35:40 +01:00)\n"
     ]
    }
   ],
   "source": [
    "cora_graph = nx.read_edgelist(\"/home/rob/MEGAsync/datasets/networks/machine_learning_datasets/f_mercator/cora/cora_GC.edge\")\n",
    "cora_features = pd.read_csv(\"/home/rob/MEGAsync/datasets/networks/machine_learning_datasets/f_mercator/cora/cora.content\", header=None, sep=\"\\s+\", low_memory=False)\n",
    "cora_labels = pd.DataFrame()\n",
    "cora_labels['index'] = cora_features.iloc[:, 0].astype(str)\n",
    "cora_labels['label'] = cora_features.iloc[:, -1]\n",
    "\n",
    "base_path = \"/home/rob/MEGAsync/datasets/networks/machine_learning_datasets/f_mercator/cora/umap/\"\n",
    "cora_le_ml = load_results(f\"{base_path}/le_ml/cora_GC.inf_coord\", cora_labels, cora_graph)\n",
    "cora_umap_ml = load_results(f\"{base_path}/umap_ml/cora_GC.inf_coord\", cora_labels, cora_graph)\n",
    "cora_only_umap = load_results(f\"{base_path}/only_umap/cora_GC.inf_coord\", cora_labels, cora_graph)"
   ]
  },
  {
   "cell_type": "code",
   "execution_count": 57,
   "id": "d9b15f7e",
   "metadata": {},
   "outputs": [
    {
     "name": "stdout",
     "output_type": "stream",
     "text": [
      "Number of communities from Louvain:  35\n",
      "Number of communities from Louvain:  35\n",
      "Number of communities from Louvain:  35\n",
      "time: 3.66 s (started: 2023-03-16 15:35:41 +01:00)\n"
     ]
    }
   ],
   "source": [
    "film_graph = nx.read_edgelist(\"/home/rob/MEGAsync/datasets/networks/machine_learning_datasets/f_mercator/film/out1_graph_edges.edge\")\n",
    "film_features = pd.read_csv(\"/home/rob/MEGAsync/datasets/networks/machine_learning_datasets/f_mercator/film/out1_node_feature_label.txt\", sep=\"\\s+\")\n",
    "film_labels = pd.DataFrame()\n",
    "film_labels['index'] = film_features['node_id'].astype(str)\n",
    "film_labels['label'] = film_features['label']\n",
    "\n",
    "base_path = \"/home/rob/MEGAsync/datasets/networks/machine_learning_datasets/f_mercator/film/umap/\"\n",
    "film_le_ml = load_results(f\"{base_path}/le_ml/out1_graph_edges.inf_coord\", film_labels, film_graph)\n",
    "film_umap_ml = load_results(f\"{base_path}/umap_ml/out1_graph_edges.inf_coord\", film_labels, film_graph)\n",
    "film_only_umap = load_results(f\"{base_path}/only_umap/out1_graph_edges.inf_coord\", film_labels, film_graph)"
   ]
  },
  {
   "cell_type": "code",
   "execution_count": 60,
   "id": "4ec21604",
   "metadata": {},
   "outputs": [
    {
     "name": "stdout",
     "output_type": "stream",
     "text": [
      "Number of communities from Louvain:  18\n",
      "Number of communities from Louvain:  18\n",
      "Number of communities from Louvain:  18\n",
      "time: 2.95 s (started: 2023-03-16 15:36:19 +01:00)\n"
     ]
    }
   ],
   "source": [
    "dblp_graph = nx.read_edgelist(\"/home/rob/MEGAsync/datasets/networks/machine_learning_datasets/f_mercator/dblp/dblp_pprefp/eS1/dblp_pprefp_GC.edge\")\n",
    "dblp_labels = np.loadtxt(\"/home/rob/MEGAsync/datasets/networks/machine_learning_datasets/f_mercator/dblp/dblp_label.txt\")\n",
    "dblp_labels = np.argmax(dblp_labels, axis=1)\n",
    "dblp_labels_dict = pd.DataFrame()\n",
    "dblp_labels_dict['label'] = dblp_labels\n",
    "dblp_labels_dict = dblp_labels_dict.reset_index()\n",
    "dblp_labels_dict['index'] = dblp_labels_dict['index'].astype(str)\n",
    "\n",
    "base_path = \"/home/rob/MEGAsync/datasets/networks/machine_learning_datasets/f_mercator/dblp/umap/\"\n",
    "dblp_le_ml = load_results(f\"{base_path}/le_ml/dblp_pprefp_GC.inf_coord\", dblp_labels_dict, dblp_graph)\n",
    "dblp_umap_ml = load_results(f\"{base_path}/umap_ml/dblp_pprefp_GC.inf_coord\", dblp_labels_dict, dblp_graph)\n",
    "dblp_only_umap = load_results(f\"{base_path}/only_umap/dblp_pprefp_GC.inf_coord\", dblp_labels_dict, dblp_graph)"
   ]
  },
  {
   "cell_type": "code",
   "execution_count": 61,
   "id": "472be8e5",
   "metadata": {},
   "outputs": [
    {
     "name": "stdout",
     "output_type": "stream",
     "text": [
      "Number of communities from Louvain:  27\n",
      "Number of communities from Louvain:  27\n",
      "Number of communities from Louvain:  27\n",
      "time: 2.38 s (started: 2023-03-16 15:36:42 +01:00)\n"
     ]
    }
   ],
   "source": [
    "imdb_graph = nx.read_edgelist(\"/home/rob/MEGAsync/datasets/networks/machine_learning_datasets/f_mercator/imdb/imdb_mam/eS1/imdb_mam_GC.edge\")\n",
    "imdb_labels = np.loadtxt(\"/home/rob/MEGAsync/datasets/networks/machine_learning_datasets/f_mercator/imdb/imdb_label.txt\")\n",
    "imdb_labels = np.argmax(imdb_labels, axis=1)\n",
    "imdb_labels_dict = pd.DataFrame()\n",
    "imdb_labels_dict['label'] = imdb_labels\n",
    "imdb_labels_dict = imdb_labels_dict.reset_index()\n",
    "imdb_labels_dict['index'] = imdb_labels_dict['index'].astype(str)\n",
    "\n",
    "base_path = \"/home/rob/MEGAsync/datasets/networks/machine_learning_datasets/f_mercator/imdb/umap/\"\n",
    "imdb_le_ml = load_results(f\"{base_path}/le_ml/imdb_mam_GC.inf_coord\", imdb_labels_dict, imdb_graph)\n",
    "imdb_umap_ml = load_results(f\"{base_path}/umap_ml/imdb_mam_GC.inf_coord\", imdb_labels_dict, imdb_graph)\n",
    "imdb_only_umap = load_results(f\"{base_path}/only_umap/imdb_mam_GC.inf_coord\", imdb_labels_dict, imdb_graph)"
   ]
  },
  {
   "cell_type": "code",
   "execution_count": 62,
   "id": "14db3319",
   "metadata": {},
   "outputs": [
    {
     "name": "stdout",
     "output_type": "stream",
     "text": [
      "Number of communities from Louvain:  14\n",
      "Number of communities from Louvain:  14\n",
      "Number of communities from Louvain:  14\n",
      "time: 7.48 s (started: 2023-03-16 15:37:03 +01:00)\n"
     ]
    }
   ],
   "source": [
    "amazon_photo_graph = nx.read_edgelist(\"/home/rob/MEGAsync/datasets/networks/machine_learning_datasets/f_mercator/amazon_photo/amazon_photo_GC.edge\")\n",
    "amazon_photo_labels = pd.read_csv(\"/home/rob/MEGAsync/datasets/networks/machine_learning_datasets/f_mercator/amazon_photo/amazon_photo_labels.txt\", header=None)\n",
    "amazon_photo_labels.reset_index(inplace=True)\n",
    "amazon_photo_labels.columns = ['index', 'label']\n",
    "amazon_photo_labels['index'] = amazon_photo_labels['index'].astype(str)\n",
    "\n",
    "base_path = \"/home/rob/MEGAsync/datasets/networks/machine_learning_datasets/f_mercator/amazon_photo/umap/\"\n",
    "amazon_photo_le_ml = load_results(f\"{base_path}/le_ml/amazon_photo_GC.inf_coord\", amazon_photo_labels, amazon_photo_graph)\n",
    "amazon_photo_umap_ml = load_results(f\"{base_path}/umap_ml/amazon_photo_GC.inf_coord\", amazon_photo_labels, amazon_photo_graph)\n",
    "amazon_photo_only_umap = load_results(f\"{base_path}/only_umap/amazon_photo_GC.inf_coord\", amazon_photo_labels, amazon_photo_graph)"
   ]
  },
  {
   "cell_type": "code",
   "execution_count": 63,
   "id": "3da70abd",
   "metadata": {},
   "outputs": [
    {
     "name": "stdout",
     "output_type": "stream",
     "text": [
      "Number of communities from Louvain:  14\n",
      "Number of communities from Louvain:  14\n",
      "Number of communities from Louvain:  14\n",
      "time: 79.8 ms (started: 2023-03-16 15:37:24 +01:00)\n"
     ]
    }
   ],
   "source": [
    "cornell_graph = nx.read_edgelist(\"/home/rob/MEGAsync/datasets/networks/machine_learning_datasets/f_mercator/webkb/cornell/out1_graph_edges.edge\")\n",
    "cornell_features = pd.read_csv(\"/home/rob/MEGAsync/datasets/networks/machine_learning_datasets/f_mercator/webkb/cornell/out1_node_feature_label.txt\", sep=\"\\s+\")\n",
    "cornell_labels = pd.DataFrame()\n",
    "cornell_labels['index'] = cornell_features['node_id']\n",
    "cornell_labels['label'] = cornell_features['label']\n",
    "cornell_labels['index'] = cornell_labels['index'].astype(str)\n",
    "\n",
    "base_path = \"/home/rob/MEGAsync/datasets/networks/machine_learning_datasets/f_mercator/webkb/cornell/umap/\"\n",
    "cornell_le_ml = load_results(f\"{base_path}/le_ml/out1_graph_edges.inf_coord\", cornell_labels, cornell_graph)\n",
    "cornell_umap_ml = load_results(f\"{base_path}/umap_ml/out1_graph_edges.inf_coord\", cornell_labels, cornell_graph)\n",
    "cornell_only_umap = load_results(f\"{base_path}/only_umap/out1_graph_edges.inf_coord\", cornell_labels, cornell_graph)"
   ]
  },
  {
   "cell_type": "code",
   "execution_count": 64,
   "id": "dddd7262",
   "metadata": {},
   "outputs": [
    {
     "name": "stdout",
     "output_type": "stream",
     "text": [
      "Number of communities from Louvain:  12\n",
      "Number of communities from Louvain:  12\n",
      "Number of communities from Louvain:  12\n",
      "time: 114 ms (started: 2023-03-16 15:37:53 +01:00)\n"
     ]
    }
   ],
   "source": [
    "wisconsin_graph = nx.read_edgelist(\"/home/rob/MEGAsync/datasets/networks/machine_learning_datasets/f_mercator/webkb/wisconsin/out1_graph_edges.edge\")\n",
    "wisconsin_features = pd.read_csv(\"/home/rob/MEGAsync/datasets/networks/machine_learning_datasets/f_mercator/webkb/wisconsin/out1_node_feature_label.txt\", sep=\"\\s+\")\n",
    "wisconsin_labels = pd.DataFrame()\n",
    "wisconsin_labels['index'] = wisconsin_features['node_id']\n",
    "wisconsin_labels['label'] = wisconsin_features['label']\n",
    "wisconsin_labels['index'] = wisconsin_labels['index'].astype(str)\n",
    "\n",
    "base_path = \"/home/rob/MEGAsync/datasets/networks/machine_learning_datasets/f_mercator/webkb/wisconsin/umap/\"\n",
    "wisconsin_le_ml = load_results(f\"{base_path}/le_ml/out1_graph_edges.inf_coord\", wisconsin_labels, wisconsin_graph)\n",
    "wisconsin_umap_ml = load_results(f\"{base_path}/umap_ml/out1_graph_edges.inf_coord\", wisconsin_labels, wisconsin_graph)\n",
    "wisconsin_only_umap = load_results(f\"{base_path}/only_umap/out1_graph_edges.inf_coord\", wisconsin_labels, wisconsin_graph)"
   ]
  },
  {
   "cell_type": "code",
   "execution_count": 65,
   "id": "63ec9b4c",
   "metadata": {},
   "outputs": [
    {
     "name": "stdout",
     "output_type": "stream",
     "text": [
      "Number of communities from Louvain:  12\n",
      "Number of communities from Louvain:  12\n",
      "Number of communities from Louvain:  12\n",
      "time: 104 ms (started: 2023-03-16 15:38:16 +01:00)\n"
     ]
    }
   ],
   "source": [
    "texas_graph = nx.read_edgelist(\"/home/rob/MEGAsync/datasets/networks/machine_learning_datasets/f_mercator/webkb/texas/out1_graph_edges.edge\")\n",
    "texas_features = pd.read_csv(\"/home/rob/MEGAsync/datasets/networks/machine_learning_datasets/f_mercator/webkb/texas/out1_node_feature_label.txt\", sep=\"\\s+\")\n",
    "texas_labels = pd.DataFrame()\n",
    "texas_labels['index'] = texas_features['node_id']\n",
    "texas_labels['label'] = texas_features['label']\n",
    "texas_labels['index'] = texas_labels['index'].astype(str)\n",
    "\n",
    "base_path = \"/home/rob/MEGAsync/datasets/networks/machine_learning_datasets/f_mercator/webkb/texas/umap/\"\n",
    "texas_le_ml = load_results(f\"{base_path}/le_ml/out1_graph_edges.inf_coord\", texas_labels, texas_graph)\n",
    "texas_umap_ml = load_results(f\"{base_path}/umap_ml/out1_graph_edges.inf_coord\", texas_labels, texas_graph)\n",
    "texas_only_umap = load_results(f\"{base_path}/only_umap/out1_graph_edges.inf_coord\", texas_labels, texas_graph)"
   ]
  },
  {
   "cell_type": "code",
   "execution_count": 66,
   "id": "c8aaa13b",
   "metadata": {},
   "outputs": [
    {
     "name": "stdout",
     "output_type": "stream",
     "text": [
      "Number of communities from Louvain:  29\n",
      "Number of communities from Louvain:  29\n",
      "Number of communities from Louvain:  29\n",
      "time: 3.59 s (started: 2023-03-16 15:38:34 +01:00)\n"
     ]
    }
   ],
   "source": [
    "lastfm_graph = nx.read_edgelist(\"/home/rob/MEGAsync/datasets/networks/machine_learning_datasets/f_mercator/lastfm_asia/lastfm_asia_edges/eS1/lastfm_asia_edges.edge\")\n",
    "lastfm_labels = pd.read_csv(\"/home/rob/MEGAsync/datasets/networks/machine_learning_datasets/f_mercator/lastfm_asia/lastfm_asia_target.csv\")\n",
    "lastfm_labels.columns = ['index', 'label']\n",
    "lastfm_labels['index'] = lastfm_labels['index'].astype(str)\n",
    "\n",
    "base_path = \"/home/rob/MEGAsync/datasets/networks/machine_learning_datasets/f_mercator/lastfm_asia/umap/\"\n",
    "lastfm_le_ml = load_results(f\"{base_path}/le_ml/lastfm_asia_edges.inf_coord\", lastfm_labels, lastfm_graph)\n",
    "lastfm_umap_ml = load_results(f\"{base_path}/umap_ml/lastfm_asia_edges.inf_coord\", lastfm_labels, lastfm_graph)\n",
    "lastfm_only_umap = load_results(f\"{base_path}/only_umap/lastfm_asia_edges.inf_coord\", lastfm_labels, lastfm_graph)"
   ]
  },
  {
   "cell_type": "code",
   "execution_count": 67,
   "id": "6474b53a",
   "metadata": {},
   "outputs": [
    {
     "name": "stdout",
     "output_type": "stream",
     "text": [
      "Number of communities from Louvain:  8\n",
      "Number of communities from Louvain:  8\n",
      "Number of communities from Louvain:  8\n",
      "time: 2.37 s (started: 2023-03-16 15:38:53 +01:00)\n"
     ]
    }
   ],
   "source": [
    "twitch_ptbr_graph = nx.read_edgelist(\"/home/rob/MEGAsync/datasets/networks/machine_learning_datasets/f_mercator/twitch/PTBR/musae_PTBR_edges.edge\")\n",
    "twitch_ptbr_labels = pd.read_csv(\"/home/rob/MEGAsync/datasets/networks/machine_learning_datasets/f_mercator/twitch/PTBR/musae_PTBR_target.csv\")\n",
    "twitch_ptbr_labels['label'] = twitch_ptbr_labels['mature'].astype(int)\n",
    "twitch_ptbr_labels = twitch_ptbr_labels[['new_id', 'label']]\n",
    "twitch_ptbr_labels['index'] = twitch_ptbr_labels['new_id']\n",
    "twitch_ptbr_labels.insert(0, 'index', twitch_ptbr_labels.pop('index'))\n",
    "twitch_ptbr_labels['index'] = twitch_ptbr_labels['index'].astype(str)\n",
    "\n",
    "base_path = \"/home/rob/MEGAsync/datasets/networks/machine_learning_datasets/f_mercator/twitch/PTBR/umap/\"\n",
    "twitch_ptbr_le_ml = load_results(f\"{base_path}/le_ml/musae_PTBR_edges.inf_coord\", twitch_ptbr_labels, twitch_ptbr_graph)\n",
    "twitch_ptbr_umap_ml = load_results(f\"{base_path}/umap_ml/musae_PTBR_edges.inf_coord\", twitch_ptbr_labels, twitch_ptbr_graph)\n",
    "twitch_ptbr_only_umap = load_results(f\"{base_path}/only_umap/musae_PTBR_edges.inf_coord\", twitch_ptbr_labels, twitch_ptbr_graph)"
   ]
  },
  {
   "cell_type": "code",
   "execution_count": 68,
   "id": "e462e341",
   "metadata": {},
   "outputs": [
    {
     "name": "stdout",
     "output_type": "stream",
     "text": [
      "Number of communities from Louvain:  7\n",
      "Number of communities from Louvain:  7\n",
      "Number of communities from Louvain:  7\n",
      "time: 6.73 s (started: 2023-03-16 15:39:11 +01:00)\n"
     ]
    }
   ],
   "source": [
    "twitch_fr_graph = nx.read_edgelist(\"/home/rob/MEGAsync/datasets/networks/machine_learning_datasets/f_mercator/twitch/FR/musae_FR_edges.edge\")\n",
    "twitch_fr_labels = pd.read_csv(\"/home/rob/MEGAsync/datasets/networks/machine_learning_datasets/f_mercator/twitch/FR/musae_FR_target.csv\")\n",
    "twitch_fr_labels['label'] = twitch_fr_labels['mature'].astype(int)\n",
    "twitch_fr_labels = twitch_fr_labels[['new_id', 'label']]\n",
    "twitch_fr_labels['index'] = twitch_fr_labels['new_id']\n",
    "twitch_fr_labels.insert(0, 'index', twitch_fr_labels.pop('index'))\n",
    "twitch_fr_labels['index'] = twitch_fr_labels['index'].astype(str)\n",
    "\n",
    "base_path = \"/home/rob/MEGAsync/datasets/networks/machine_learning_datasets/f_mercator/twitch/FR/umap/\"\n",
    "twitch_fr_le_ml = load_results(f\"{base_path}/le_ml/musae_FR_edges.inf_coord\", twitch_fr_labels, twitch_fr_graph)\n",
    "twitch_fr_umap_ml = load_results(f\"{base_path}/umap_ml/musae_FR_edges.inf_coord\", twitch_fr_labels, twitch_fr_graph)\n",
    "twitch_fr_only_umap = load_results(f\"{base_path}/only_umap/musae_FR_edges.inf_coord\", twitch_fr_labels, twitch_fr_graph)"
   ]
  },
  {
   "cell_type": "code",
   "execution_count": 69,
   "id": "315df698",
   "metadata": {},
   "outputs": [
    {
     "name": "stdout",
     "output_type": "stream",
     "text": [
      "Number of communities from Louvain:  10\n",
      "Number of communities from Louvain:  10\n",
      "Number of communities from Louvain:  10\n",
      "time: 3.61 s (started: 2023-03-16 15:39:34 +01:00)\n"
     ]
    }
   ],
   "source": [
    "twitch_es_graph = nx.read_edgelist(\"/home/rob/MEGAsync/datasets/networks/machine_learning_datasets/f_mercator/twitch/ES/musae_ES_edges.edge\")\n",
    "twitch_es_labels = pd.read_csv(\"/home/rob/MEGAsync/datasets/networks/machine_learning_datasets/f_mercator/twitch/ES/musae_ES_target.csv\")\n",
    "twitch_es_labels['label'] = twitch_es_labels['mature'].astype(int)\n",
    "twitch_es_labels = twitch_es_labels[['new_id', 'label']]\n",
    "twitch_es_labels['index'] = twitch_es_labels['new_id']\n",
    "twitch_es_labels.insert(0, 'index', twitch_es_labels.pop('index'))\n",
    "twitch_es_labels['index'] = twitch_es_labels['index'].astype(str)\n",
    "\n",
    "base_path = \"/home/rob/MEGAsync/datasets/networks/machine_learning_datasets/f_mercator/twitch/ES/umap/\"\n",
    "twitch_es_le_ml = load_results(f\"{base_path}/le_ml/musae_ES_edges.inf_coord\", twitch_es_labels, twitch_es_graph)\n",
    "twitch_es_umap_ml = load_results(f\"{base_path}/umap_ml/musae_ES_edges.inf_coord\", twitch_es_labels, twitch_es_graph)\n",
    "twitch_es_only_umap = load_results(f\"{base_path}/only_umap/musae_ES_edges.inf_coord\", twitch_es_labels, twitch_es_graph)"
   ]
  },
  {
   "cell_type": "code",
   "execution_count": 70,
   "id": "73ab5f0b",
   "metadata": {},
   "outputs": [
    {
     "name": "stdout",
     "output_type": "stream",
     "text": [
      "Number of communities from Louvain:  17\n",
      "Number of communities from Louvain:  17\n",
      "Number of communities from Louvain:  17\n",
      "time: 5.01 s (started: 2023-03-16 15:39:53 +01:00)\n"
     ]
    }
   ],
   "source": [
    "twitch_engb_graph = nx.read_edgelist(\"/home/rob/MEGAsync/datasets/networks/machine_learning_datasets/f_mercator/twitch/ENGB/musae_ENGB_edges.edge\")\n",
    "twitch_engb_labels = pd.read_csv(\"/home/rob/MEGAsync/datasets/networks/machine_learning_datasets/f_mercator/twitch/ENGB/musae_ENGB_target.csv\")\n",
    "twitch_engb_labels['label'] = twitch_engb_labels['mature'].astype(int)\n",
    "twitch_engb_labels = twitch_engb_labels[['new_id', 'label']]\n",
    "twitch_engb_labels['index'] = twitch_engb_labels['new_id']\n",
    "twitch_engb_labels.insert(0, 'index', twitch_engb_labels.pop('index'))\n",
    "twitch_engb_labels['index'] = twitch_engb_labels['index'].astype(str)\n",
    "\n",
    "base_path = \"/home/rob/MEGAsync/datasets/networks/machine_learning_datasets/f_mercator/twitch/ENGB/umap/\"\n",
    "twitch_engb_le_ml = load_results(f\"{base_path}/le_ml/musae_ENGB_edges.inf_coord\", twitch_engb_labels, twitch_engb_graph)\n",
    "twitch_engb_umap_ml = load_results(f\"{base_path}/umap_ml/musae_ENGB_edges.inf_coord\", twitch_engb_labels, twitch_engb_graph)\n",
    "twitch_engb_only_umap = load_results(f\"{base_path}/only_umap/musae_ENGB_edges.inf_coord\", twitch_engb_labels, twitch_engb_graph)"
   ]
  },
  {
   "cell_type": "code",
   "execution_count": null,
   "id": "4711d5df",
   "metadata": {},
   "outputs": [],
   "source": []
  }
 ],
 "metadata": {
  "kernelspec": {
   "display_name": "Python 3 (ipykernel)",
   "language": "python",
   "name": "python3"
  },
  "language_info": {
   "codemirror_mode": {
    "name": "ipython",
    "version": 3
   },
   "file_extension": ".py",
   "mimetype": "text/x-python",
   "name": "python",
   "nbconvert_exporter": "python",
   "pygments_lexer": "ipython3",
   "version": "3.10.9"
  }
 },
 "nbformat": 4,
 "nbformat_minor": 5
}
