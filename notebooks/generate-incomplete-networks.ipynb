{
 "cells": [
  {
   "cell_type": "code",
   "execution_count": 35,
   "id": "400abedf",
   "metadata": {},
   "outputs": [
    {
     "name": "stdout",
     "output_type": "stream",
     "text": [
      "The autoreload extension is already loaded. To reload it, use:\n",
      "  %reload_ext autoreload\n",
      "The notexbook extension is already loaded. To reload it, use:\n",
      "  %reload_ext notexbook\n"
     ]
    }
   ],
   "source": [
    "%load_ext autoreload\n",
    "%autoreload 2\n",
    "%load_ext notexbook\n",
    "\n",
    "import matplotlib.pyplot as plt\n",
    "from matplotlib import cm\n",
    "import numpy as np\n",
    "import pandas as pd\n",
    "import glob\n",
    "import seaborn as sns\n",
    "import sys\n",
    "sys.path.append(\"..\")\n",
    "from tqdm import tqdm\n",
    "import networkx as nx\n",
    "\n",
    "from generate_incomplete_graph import *\n",
    "\n",
    "plt.style.use(\"../config/custom_plt.mplstyle\")"
   ]
  },
  {
   "cell_type": "code",
   "execution_count": 45,
   "id": "038d5187",
   "metadata": {},
   "outputs": [],
   "source": [
    "base_path = \"/home/rob/MEGAsync/datasets/networks/machine_learning_datasets/f_mercator/citeseer\"\n",
    "citeseer_graph = nx.read_edgelist(f\"{base_path}/citeseer_GC_fixed.edge\")\n",
    "\n",
    "for i, g in enumerate(generate_bunch_incomplate_graph(citeseer_graph)):\n",
    "    nx.write_edgelist(g, f\"{base_path}/incomplete/citeseer_q0_0_1_i_{i}.edge\", data=False)"
   ]
  },
  {
   "cell_type": "code",
   "execution_count": 46,
   "id": "63c3d90f",
   "metadata": {},
   "outputs": [],
   "source": [
    "base_path = \"/home/rob/MEGAsync/datasets/networks/machine_learning_datasets/f_mercator/cora\"\n",
    "cora_graph = nx.read_edgelist(f\"{base_path}/cora_GC.edge\")\n",
    "\n",
    "for i, g in enumerate(generate_bunch_incomplate_graph(cora_graph)):\n",
    "    nx.write_edgelist(g, f\"{base_path}/incomplete/cora_q0_0_1_i_{i}.edge\", data=False)"
   ]
  },
  {
   "cell_type": "code",
   "execution_count": 47,
   "id": "d9b15f7e",
   "metadata": {},
   "outputs": [],
   "source": [
    "base_path = \"/home/rob/MEGAsync/datasets/networks/machine_learning_datasets/f_mercator/film\"\n",
    "film_graph = nx.read_edgelist(f\"{base_path}/out1_graph_edges.edge\")\n",
    "\n",
    "for i, g in enumerate(generate_bunch_incomplate_graph(film_graph)):\n",
    "    nx.write_edgelist(g, f\"{base_path}/incomplete/film_q0_0_1_i_{i}.edge\", data=False)"
   ]
  },
  {
   "cell_type": "code",
   "execution_count": 48,
   "id": "4ec21604",
   "metadata": {},
   "outputs": [],
   "source": [
    "base_path = \"/home/rob/MEGAsync/datasets/networks/machine_learning_datasets/f_mercator/dblp/\"\n",
    "dblp_graph = nx.read_edgelist(f\"{base_path}/dblp_pprefp/eS1/dblp_pprefp_GC.edge\")\n",
    "\n",
    "for i, g in enumerate(generate_bunch_incomplate_graph(dblp_graph)):\n",
    "    nx.write_edgelist(g, f\"{base_path}/incomplete/dblp_pprefp_q0_0_1_i_{i}.edge\", data=False)"
   ]
  },
  {
   "cell_type": "code",
   "execution_count": 49,
   "id": "472be8e5",
   "metadata": {},
   "outputs": [],
   "source": [
    "base_path = \"/home/rob/MEGAsync/datasets/networks/machine_learning_datasets/f_mercator/imdb/\"\n",
    "imdb_graph = nx.read_edgelist(f\"{base_path}/imdb_mam/eS1/imdb_mam_GC.edge\")\n",
    "\n",
    "for i, g in enumerate(generate_bunch_incomplate_graph(imdb_graph)):\n",
    "    nx.write_edgelist(g, f\"{base_path}/incomplete/imdb_mam_q0_0_1_i_{i}.edge\", data=False)"
   ]
  },
  {
   "cell_type": "code",
   "execution_count": 50,
   "id": "8d1797f2",
   "metadata": {},
   "outputs": [],
   "source": [
    "base_path = \"/home/rob/MEGAsync/datasets/networks/machine_learning_datasets/f_mercator/acm\"\n",
    "acm_graph = nx.read_edgelist(f\"{base_path}/acm_pap/eS1/acm_pap_GC.edge\")\n",
    "\n",
    "for i, g in enumerate(generate_bunch_incomplate_graph(acm_graph)):\n",
    "    nx.write_edgelist(g, f\"{base_path}/incomplete/acm_pap_q0_0_1_i_{i}.edge\", data=False)"
   ]
  },
  {
   "cell_type": "code",
   "execution_count": 51,
   "id": "14db3319",
   "metadata": {},
   "outputs": [],
   "source": [
    "base_path = \"/home/rob/MEGAsync/datasets/networks/machine_learning_datasets/f_mercator/amazon_photo\"\n",
    "amazon_photo_graph = nx.read_edgelist(f\"{base_path}/amazon_photo_GC.edge\")\n",
    "\n",
    "for i, g in enumerate(generate_bunch_incomplate_graph(amazon_photo_graph)):\n",
    "    nx.write_edgelist(g, f\"{base_path}/incomplete/amazon_photo_q0_0_1_i_{i}.edge\", data=False)"
   ]
  },
  {
   "cell_type": "code",
   "execution_count": 52,
   "id": "3da70abd",
   "metadata": {},
   "outputs": [],
   "source": [
    "base_path = \"/home/rob/MEGAsync/datasets/networks/machine_learning_datasets/f_mercator/webkb/cornell\"\n",
    "cornell_graph = nx.read_edgelist(f\"{base_path}/out1_graph_edges.edge\")\n",
    "\n",
    "for i, g in enumerate(generate_bunch_incomplate_graph(cornell_graph)):\n",
    "    nx.write_edgelist(g, f\"{base_path}/incomplete/cornell_q0_0_1_i_{i}.edge\", data=False)"
   ]
  },
  {
   "cell_type": "code",
   "execution_count": 53,
   "id": "dddd7262",
   "metadata": {},
   "outputs": [],
   "source": [
    "base_path = \"/home/rob/MEGAsync/datasets/networks/machine_learning_datasets/f_mercator/webkb/wisconsin\"\n",
    "wisconsin_graph = nx.read_edgelist(f\"{base_path}/out1_graph_edges.edge\")\n",
    "\n",
    "for i, g in enumerate(generate_bunch_incomplate_graph(wisconsin_graph)):\n",
    "    nx.write_edgelist(g, f\"{base_path}/incomplete/wisconsin_q0_0_1_i_{i}.edge\", data=False)"
   ]
  },
  {
   "cell_type": "code",
   "execution_count": 54,
   "id": "63ec9b4c",
   "metadata": {},
   "outputs": [],
   "source": [
    "base_path = \"/home/rob/MEGAsync/datasets/networks/machine_learning_datasets/f_mercator/webkb/texas\"\n",
    "texas_graph = nx.read_edgelist(f\"{base_path}/out1_graph_edges.edge\")\n",
    "\n",
    "for i, g in enumerate(generate_bunch_incomplate_graph(texas_graph)):\n",
    "    nx.write_edgelist(g, f\"{base_path}/incomplete/texas_q0_0_1_i_{i}.edge\", data=False)"
   ]
  },
  {
   "cell_type": "code",
   "execution_count": 55,
   "id": "eb96b4d8",
   "metadata": {},
   "outputs": [],
   "source": [
    "base_path = \"/home/rob/MEGAsync/datasets/networks/machine_learning_datasets/f_mercator/lastfm_asia\"\n",
    "lastfm_graph = nx.read_edgelist(f\"{base_path}/lastfm_asia_edges/eS1/lastfm_asia_edges.edge\")\n",
    "\n",
    "for i, g in enumerate(generate_bunch_incomplate_graph(lastfm_graph)):\n",
    "    nx.write_edgelist(g, f\"{base_path}/incomplete/lastfm_q0_0_1_i_{i}.edge\", data=False)"
   ]
  },
  {
   "cell_type": "code",
   "execution_count": 56,
   "id": "62dc835b",
   "metadata": {},
   "outputs": [],
   "source": [
    "base_path = \"/home/rob/MEGAsync/datasets/networks/machine_learning_datasets/f_mercator/twitch/RU\"\n",
    "twitch_ru_graph = nx.read_edgelist(f\"{base_path}/musae_RU_edges/eS1/musae_RU_edges.edge\")\n",
    "\n",
    "for i, g in enumerate(generate_bunch_incomplate_graph(twitch_ru_graph)):\n",
    "    nx.write_edgelist(g, f\"{base_path}/incomplete/twitch_ru_q0_0_1_i_{i}.edge\", data=False)"
   ]
  },
  {
   "cell_type": "code",
   "execution_count": 57,
   "id": "947e1536",
   "metadata": {},
   "outputs": [],
   "source": [
    "base_path = \"/home/rob/MEGAsync/datasets/networks/machine_learning_datasets/f_mercator/twitch/PTBR\"\n",
    "twitch_ptbr_graph = nx.read_edgelist(f\"{base_path}/musae_PTBR_edges.edge\")\n",
    "\n",
    "for i, g in enumerate(generate_bunch_incomplate_graph(twitch_ptbr_graph)):\n",
    "    nx.write_edgelist(g, f\"{base_path}/incomplete/twitch_ptbr_q0_0_1_i_{i}.edge\", data=False)"
   ]
  },
  {
   "cell_type": "code",
   "execution_count": 58,
   "id": "608144ff",
   "metadata": {},
   "outputs": [],
   "source": [
    "base_path = \"/home/rob/MEGAsync/datasets/networks/machine_learning_datasets/f_mercator/twitch/FR\"\n",
    "twitch_fr_graph = nx.read_edgelist(f\"{base_path}/musae_FR_edges.edge\")\n",
    "\n",
    "for i, g in enumerate(generate_bunch_incomplate_graph(twitch_fr_graph)):\n",
    "    nx.write_edgelist(g, f\"{base_path}/incomplete/twitch_fr_q0_0_1_i_{i}.edge\", data=False)"
   ]
  },
  {
   "cell_type": "code",
   "execution_count": 59,
   "id": "e0723214",
   "metadata": {},
   "outputs": [],
   "source": [
    "base_path = \"/home/rob/MEGAsync/datasets/networks/machine_learning_datasets/f_mercator/twitch/ES\"\n",
    "twitch_es_graph = nx.read_edgelist(f\"{base_path}/musae_ES_edges.edge\")\n",
    "\n",
    "for i, g in enumerate(generate_bunch_incomplate_graph(twitch_es_graph)):\n",
    "    nx.write_edgelist(g, f\"{base_path}/incomplete/twitch_es_q0_0_1_i_{i}.edge\", data=False)"
   ]
  },
  {
   "cell_type": "code",
   "execution_count": 60,
   "id": "ad987d17",
   "metadata": {},
   "outputs": [],
   "source": [
    "base_path = \"/home/rob/MEGAsync/datasets/networks/machine_learning_datasets/f_mercator/twitch/ENGB\"\n",
    "twitch_engb_graph = nx.read_edgelist(f\"{base_path}/musae_ENGB_edges.edge\")\n",
    "\n",
    "for i, g in enumerate(generate_bunch_incomplate_graph(twitch_engb_graph)):\n",
    "    nx.write_edgelist(g, f\"{base_path}/incomplete/twitch_engb_q0_0_1_i_{i}.edge\", data=False)"
   ]
  },
  {
   "cell_type": "code",
   "execution_count": 61,
   "id": "ff2bdca6",
   "metadata": {},
   "outputs": [],
   "source": [
    "base_path = \"/home/rob/MEGAsync/datasets/networks/machine_learning_datasets/f_mercator/twitch/DE\"\n",
    "twitch_de_graph = nx.read_edgelist(f\"{base_path}/musae_DE_edges.edge\")\n",
    "\n",
    "for i, g in enumerate(generate_bunch_incomplate_graph(twitch_de_graph)):\n",
    "    nx.write_edgelist(g, f\"{base_path}/incomplete/twitch_de_q0_0_1_i_{i}.edge\", data=False)"
   ]
  },
  {
   "cell_type": "code",
   "execution_count": null,
   "id": "bc708f65",
   "metadata": {},
   "outputs": [],
   "source": []
  }
 ],
 "metadata": {
  "kernelspec": {
   "display_name": "Python 3 (ipykernel)",
   "language": "python",
   "name": "python3"
  },
  "language_info": {
   "codemirror_mode": {
    "name": "ipython",
    "version": 3
   },
   "file_extension": ".py",
   "mimetype": "text/x-python",
   "name": "python",
   "nbconvert_exporter": "python",
   "pygments_lexer": "ipython3",
   "version": "3.10.9"
  }
 },
 "nbformat": 4,
 "nbformat_minor": 5
}
